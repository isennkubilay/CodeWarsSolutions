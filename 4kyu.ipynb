{
 "metadata": {
  "language_info": {
   "codemirror_mode": {
    "name": "ipython",
    "version": 3
   },
   "file_extension": ".py",
   "mimetype": "text/x-python",
   "name": "python",
   "nbconvert_exporter": "python",
   "pygments_lexer": "ipython3",
   "version": "3.7.9-final"
  },
  "orig_nbformat": 2,
  "kernelspec": {
   "name": "python3",
   "display_name": "Python 3",
   "language": "python"
  }
 },
 "nbformat": 4,
 "nbformat_minor": 2,
 "cells": [
  {
   "source": [
    "## parseInt() reloaded\n",
    " "
   ],
   "cell_type": "markdown",
   "metadata": {}
  },
  {
   "source": [
    "In this kata we want to convert a string into an integer. The strings simply represent the numbers in words.\n",
    "\n",
    "Examples:\n",
    "\n",
    "\"one\" => 1\n",
    "\"twenty\" => 20\n",
    "\"two hundred forty-six\" => 246\n",
    "\"seven hundred eighty-three thousand nine hundred and nineteen\" => 783919\n",
    "Additional Notes:\n",
    "\n",
    "The minimum number is \"zero\" (inclusively)\n",
    "The maximum number, which must be supported is 1 million (inclusively)\n",
    "The \"and\" in e.g. \"one hundred and twenty-four\" is optional, in some cases it's present and in others it's not\n",
    "All tested numbers are valid, you don't need to validate them"
   ],
   "cell_type": "markdown",
   "metadata": {}
  },
  {
   "cell_type": "code",
   "execution_count": 1,
   "metadata": {},
   "outputs": [],
   "source": [
    "ONES = ['zero', 'one', 'two', 'three', 'four', 'five', 'six', 'seven', 'eight', 'nine',\n",
    "        'ten', 'eleven', 'twelve', 'thirteen', 'fourteen', 'fifteen', 'sixteen', 'seventeen', \n",
    "        'eighteen', 'nineteen']\n",
    "TENS = ['twenty', 'thirty', 'forty', 'fifty', 'sixty', 'seventy', 'eighty', 'ninety']\n",
    "\n",
    "def parse_int(string):\n",
    "    numbers = []\n",
    "    for token in string.replace('-', ' ').split(' '):\n",
    "        if token in ONES:\n",
    "            numbers.append(ONES.index(token))\n",
    "        elif token in TENS:\n",
    "            numbers.append((TENS.index(token) + 2) * 10)\n",
    "        elif token == 'hundred':\n",
    "            numbers[-1] *= 100\n",
    "        elif token == 'thousand':\n",
    "            numbers = [x * 1000 for x in numbers]\n",
    "        elif token == 'million':\n",
    "            numbers = [x * 1000000 for x in numbers]\n",
    "    return sum(numbers)"
   ]
  },
  {
   "cell_type": "code",
   "execution_count": 2,
   "metadata": {},
   "outputs": [
    {
     "output_type": "execute_result",
     "data": {
      "text/plain": [
       "246"
      ]
     },
     "metadata": {},
     "execution_count": 2
    }
   ],
   "source": [
    "parse_int('two hundred forty-six')"
   ]
  },
  {
   "cell_type": "code",
   "execution_count": null,
   "metadata": {},
   "outputs": [],
   "source": []
  }
 ]
}