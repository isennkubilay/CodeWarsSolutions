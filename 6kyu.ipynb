{
 "metadata": {
  "language_info": {
   "codemirror_mode": {
    "name": "ipython",
    "version": 3
   },
   "file_extension": ".py",
   "mimetype": "text/x-python",
   "name": "python",
   "nbconvert_exporter": "python",
   "pygments_lexer": "ipython3",
   "version": "3.7.9-final"
  },
  "orig_nbformat": 2,
  "kernelspec": {
   "name": "python3",
   "display_name": "Python 3.7.9 64-bit",
   "metadata": {
    "interpreter": {
     "hash": "aee8b7b246df8f9039afb4144a1f6fd8d2ca17a180786b69acc140d282b71a49"
    }
   }
  }
 },
 "nbformat": 4,
 "nbformat_minor": 2,
 "cells": [
  {
   "source": [
    "## Sort the odd\n",
    "You will be given an array of numbers. You have to sort the odd numbers in ascending order while leaving the even numbers at their original positions.\n",
    "\n",
    "Examples \n",
    "\n",
    "`[7, 1]  =>  [1, 7]`\n",
    "\n",
    "`[5, 8, 6, 3, 4]  =>  [3, 8, 6, 5, 4]`\n",
    "\n",
    "`[9, 8, 7, 6, 5, 4, 3, 2, 1, 0]  =>  [1, 8, 3, 6, 5, 4, 7, 2, 9, 0]`\n",
    "\n"
   ],
   "cell_type": "markdown",
   "metadata": {}
  },
  {
   "cell_type": "code",
   "execution_count": 49,
   "metadata": {},
   "outputs": [],
   "source": [
    "def sort_array(source_array):\n",
    "    oddList=sorted([x for x in source_array if x % 2 != 0])\n",
    "    i = 0\n",
    "    result = []\n",
    "    for e in source_array:\n",
    "        if e % 2 == 0:\n",
    "            result.append(e)\n",
    "        else:\n",
    "            result.append(oddList[i])\n",
    "            i+=1\n",
    "    return result "
   ]
  },
  {
   "cell_type": "code",
   "execution_count": 50,
   "metadata": {},
   "outputs": [
    {
     "output_type": "execute_result",
     "data": {
      "text/plain": [
       "[3, 8, 6, 5, 4]"
      ]
     },
     "metadata": {},
     "execution_count": 50
    }
   ],
   "source": [
    "sort_array([5, 8, 6, 3, 4])"
   ]
  },
  {
   "cell_type": "code",
   "execution_count": 51,
   "metadata": {},
   "outputs": [
    {
     "output_type": "execute_result",
     "data": {
      "text/plain": [
       "[1, 8, 3, 6, 5, 4, 7, 2, 9, 0]"
      ]
     },
     "metadata": {},
     "execution_count": 51
    }
   ],
   "source": [
    "sort_array([9, 8, 7, 6, 5, 4, 3, 2, 1, 0])"
   ]
  },
  {
   "source": [
    "---"
   ],
   "cell_type": "markdown",
   "metadata": {}
  },
  {
   "source": [
    "## Roman Numerals Encoder\n",
    "\n"
   ],
   "cell_type": "markdown",
   "metadata": {}
  },
  {
   "source": [
    "Create a function taking a positive integer as its parameter and returning a string containing the Roman Numeral representation of that integer.\n",
    "\n",
    "Modern Roman numerals are written by expressing each digit separately starting with the left most digit and skipping any digit with a value of zero. In Roman numerals 1990 is rendered: 1000=M, 900=CM, 90=XC; resulting in MCMXC. 2008 is written as 2000=MM, 8=VIII; or MMVIII. 1666 uses each Roman symbol in descending order: MDCLXVI.\n",
    "\n",
    "Example:\n",
    "\n",
    "`solution(1000) # should return 'M'`\n"
   ],
   "cell_type": "markdown",
   "metadata": {}
  },
  {
   "cell_type": "code",
   "execution_count": 21,
   "metadata": {},
   "outputs": [],
   "source": [
    "def solution(n):\n",
    "    num_map = [(1000, 'M'), (900, 'CM'), (500, 'D'), (400, 'CD'), (100, 'C'), (90, 'XC'),\n",
    "           (50, 'L'), (40, 'XL'), (10, 'X'), (9, 'IX'), (5, 'V'), (4, 'IV'), (1, 'I')]\n",
    "    result = \"\"\n",
    "    while n > 0:\n",
    "        for i,r in num_map:\n",
    "            while n >= i:\n",
    "                result += r\n",
    "                n -= i\n",
    "\n",
    "    return result\n",
    "\n"
   ]
  },
  {
   "cell_type": "code",
   "execution_count": 22,
   "metadata": {},
   "outputs": [
    {
     "output_type": "stream",
     "name": "stdout",
     "text": [
      "1000\n900\n500\n400\n100\n90\n50\n40\n10\n9\n5\n4\n1\n"
     ]
    },
    {
     "output_type": "execute_result",
     "data": {
      "text/plain": [
       "'CL'"
      ]
     },
     "metadata": {},
     "execution_count": 22
    }
   ],
   "source": [
    "solution(150)"
   ]
  },
  {
   "cell_type": "code",
   "execution_count": 8,
   "metadata": {},
   "outputs": [],
   "source": [
    "def itr(num):  \n",
    "    dct = { 1: \"I\", 4: \"IV\", 5: \"V\", 9: \"IX\", 10: \"X\", 40: \"XL\", 50: \"L\", 90: \"XC\", 100: \"C\", 400: \"CD\", 500: \"D\", 900: \"CM\", 1000: \"M\" }\n",
    "    if(num in dct):\n",
    "        return dct[num]\n",
    "\n",
    "    for i in [1000,100,10,1]:\n",
    "        for j in [9*i, 5*i, 4*i, i]:\n",
    "            if(num>=j):\n",
    "                return itr(j) + itr(num-j) "
   ]
  },
  {
   "cell_type": "code",
   "execution_count": 12,
   "metadata": {},
   "outputs": [
    {
     "output_type": "execute_result",
     "data": {
      "text/plain": [
       "'MD'"
      ]
     },
     "metadata": {},
     "execution_count": 12
    }
   ],
   "source": [
    "itr(1500)"
   ]
  },
  {
   "cell_type": "code",
   "execution_count": null,
   "metadata": {},
   "outputs": [],
   "source": [
    "function solution(number)\n",
    "{\n",
    "  var result   = '',\n",
    "      decimals = [1000, 900, 500, 400, 100, 90, 50, 40, 10, 9, 5, 4, 1],\n",
    "      roman    = ['M', 'CM', 'D', 'CD', 'C', 'XC', 'L', 'XL', 'X', 'IX', 'V', 'IV', 'I'];\n",
    "\n",
    "  decimals.map(function (value, index) {\n",
    "    while (number >= value) {\n",
    "      result += roman[index];\n",
    "      number -= value;\n",
    "    }\n",
    "  });\n",
    "  \n",
    "  return result;\n",
    "}"
   ]
  },
  {
   "cell_type": "code",
   "execution_count": 38,
   "metadata": {},
   "outputs": [
    {
     "output_type": "stream",
     "name": "stdout",
     "text": [
      "1000\n"
     ]
    }
   ],
   "source": [
    "solution(1000)"
   ]
  },
  {
   "cell_type": "code",
   "execution_count": 18,
   "metadata": {},
   "outputs": [],
   "source": [
    "symbol = {\"I\":1,\"V\":5,\"X\":10,\"L\":50,\"C\":100,\"D\":500,\"M\":1000}"
   ]
  },
  {
   "cell_type": "code",
   "execution_count": 28,
   "metadata": {},
   "outputs": [
    {
     "output_type": "stream",
     "name": "stdout",
     "text": [
      "1\n5\n10\n50\n100\n500\n1000\n"
     ]
    }
   ],
   "source": [
    "for k,v in symbol.items():\n",
    "    print(v)"
   ]
  },
  {
   "cell_type": "code",
   "execution_count": null,
   "metadata": {},
   "outputs": [],
   "source": [
    "if n==1000:\n",
    "    return \"M\""
   ]
  },
  {
   "cell_type": "code",
   "execution_count": null,
   "metadata": {},
   "outputs": [],
   "source": [
    "Symbol    Value\n",
    "I          1\n",
    "V          5\n",
    "X          10\n",
    "L          50\n",
    "C          100\n",
    "D          500\n",
    "M          1,000"
   ]
  },
  {
   "cell_type": "code",
   "execution_count": null,
   "metadata": {},
   "outputs": [],
   "source": []
  }
 ]
}