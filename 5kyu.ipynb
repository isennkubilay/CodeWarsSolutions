{
 "metadata": {
  "language_info": {
   "codemirror_mode": {
    "name": "ipython",
    "version": 3
   },
   "file_extension": ".py",
   "mimetype": "text/x-python",
   "name": "python",
   "nbconvert_exporter": "python",
   "pygments_lexer": "ipython3",
   "version": "3.7.9-final"
  },
  "orig_nbformat": 2,
  "kernelspec": {
   "name": "python3",
   "display_name": "Python 3.7.9 64-bit",
   "metadata": {
    "interpreter": {
     "hash": "aee8b7b246df8f9039afb4144a1f6fd8d2ca17a180786b69acc140d282b71a49"
    }
   }
  }
 },
 "nbformat": 4,
 "nbformat_minor": 2,
 "cells": [
  {
   "source": [
    "## Valid Parentheses\n",
    "\n",
    "Write a function called that takes a string of parentheses, and determines if the order of the parentheses is valid. The function should return true if the string is valid, and false if it's invalid.\n",
    "\n",
    "Examples:\n",
    "\n",
    "`\"()\"              =>  true`\n",
    "\n",
    "`\")(()))\"          =>  false`\n",
    "\n",
    "`\"(\"               =>  false`\n",
    "\n",
    "`\"(())((()())())\"  =>  true`\n",
    "\n"
   ],
   "cell_type": "markdown",
   "metadata": {}
  },
  {
   "cell_type": "code",
   "execution_count": 13,
   "metadata": {},
   "outputs": [],
   "source": [
    "def isValidParent(strr):\n",
    "    n = 0\n",
    "    for i in range(len(strr)):\n",
    "        if strr[i] == \"(\":\n",
    "            n+=1\n",
    "        if strr[i] == \")\":\n",
    "            n-=1\n",
    "        if n<0:\n",
    "            return False\n",
    "    return n == 0"
   ]
  },
  {
   "cell_type": "code",
   "execution_count": 14,
   "metadata": {},
   "outputs": [
    {
     "output_type": "execute_result",
     "data": {
      "text/plain": [
       "True"
      ]
     },
     "metadata": {},
     "execution_count": 14
    }
   ],
   "source": [
    "isValidParent(\"(())((()())())\")"
   ]
  },
  {
   "source": [
    "---"
   ],
   "cell_type": "markdown",
   "metadata": {}
  },
  {
   "source": [
    "## The Supermarket Queue\n",
    "\n",
    "There is a queue for the self-checkout tills at the supermarket. Your task is write a function to calculate the total time required for all the customers to check out!\n",
    "\n",
    "input \n",
    " - customers: an array of positive integers representing the queue. Each integer represents a customer, and its value is the amount of time they require to check out.\n",
    "- n: a positive integer, the number of checkout tills.\n",
    "\n",
    "output\n",
    "\n",
    "The function should return an integer, the total time required.\n",
    "\n",
    "Examples:\n",
    "\n",
    "`queue_time([5,3,4], 1)`\n",
    "should return 12\n",
    "because when n=1, the total time is just the sum of the times\n",
    "\n",
    "`queue_time([10,2,3,3], 2)`\n",
    "should return 10\n",
    "because here n=2 and the 2nd, 3rd, and 4th people in the \n",
    "queue finish before the 1st person has finished.\n",
    "\n",
    "`queue_time([2,3,10], 2)`\n",
    "should return 12\n",
    "\n",
    "\n"
   ],
   "cell_type": "markdown",
   "metadata": {}
  },
  {
   "cell_type": "code",
   "execution_count": 15,
   "metadata": {},
   "outputs": [],
   "source": [
    "def queue_time(customers, n):\n",
    "    tills = [0] * n \n",
    "    for i in customers:\n",
    "        tills[0] += i\n",
    "        tills.sort()\n",
    "    return max(tills)\n"
   ]
  },
  {
   "cell_type": "code",
   "execution_count": 19,
   "metadata": {},
   "outputs": [
    {
     "output_type": "execute_result",
     "data": {
      "text/plain": [
       "7"
      ]
     },
     "metadata": {},
     "execution_count": 19
    }
   ],
   "source": [
    "queue_time([5,3,4],2)"
   ]
  },
  {
   "source": [
    "---"
   ],
   "cell_type": "markdown",
   "metadata": {}
  },
  {
   "cell_type": "code",
   "execution_count": null,
   "metadata": {},
   "outputs": [],
   "source": []
  }
 ]
}