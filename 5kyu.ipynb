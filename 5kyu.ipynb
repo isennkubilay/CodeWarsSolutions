{
 "metadata": {
  "language_info": {
   "codemirror_mode": {
    "name": "ipython",
    "version": 3
   },
   "file_extension": ".py",
   "mimetype": "text/x-python",
   "name": "python",
   "nbconvert_exporter": "python",
   "pygments_lexer": "ipython3",
   "version": "3.7.9-final"
  },
  "orig_nbformat": 2,
  "kernelspec": {
   "name": "python3",
   "display_name": "Python 3.7.9 64-bit",
   "metadata": {
    "interpreter": {
     "hash": "aee8b7b246df8f9039afb4144a1f6fd8d2ca17a180786b69acc140d282b71a49"
    }
   }
  }
 },
 "nbformat": 4,
 "nbformat_minor": 2,
 "cells": [
  {
   "source": [
    "## Valid Parentheses\n",
    "\n",
    "Write a function called that takes a string of parentheses, and determines if the order of the parentheses is valid. The function should return true if the string is valid, and false if it's invalid.\n",
    "\n",
    "Examples:\n",
    "\n",
    "`\"()\"              =>  true`\n",
    "\n",
    "`\")(()))\"          =>  false`\n",
    "\n",
    "`\"(\"               =>  false`\n",
    "\n",
    "`\"(())((()())())\"  =>  true`\n",
    "\n"
   ],
   "cell_type": "markdown",
   "metadata": {}
  },
  {
   "cell_type": "code",
   "execution_count": 13,
   "metadata": {},
   "outputs": [],
   "source": [
    "def isValidParent(strr):\n",
    "    n = 0\n",
    "    for i in range(len(strr)):\n",
    "        if strr[i] == \"(\":\n",
    "            n+=1\n",
    "        if strr[i] == \")\":\n",
    "            n-=1\n",
    "        if n<0:\n",
    "            return False\n",
    "    return n == 0"
   ]
  },
  {
   "cell_type": "code",
   "execution_count": 14,
   "metadata": {},
   "outputs": [
    {
     "output_type": "execute_result",
     "data": {
      "text/plain": [
       "True"
      ]
     },
     "metadata": {},
     "execution_count": 14
    }
   ],
   "source": [
    "isValidParent(\"(())((()())())\")"
   ]
  },
  {
   "cell_type": "code",
   "execution_count": null,
   "metadata": {},
   "outputs": [],
   "source": []
  }
 ]
}