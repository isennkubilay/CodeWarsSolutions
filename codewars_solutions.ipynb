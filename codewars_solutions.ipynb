{
 "metadata": {
  "language_info": {
   "codemirror_mode": {
    "name": "ipython",
    "version": 3
   },
   "file_extension": ".py",
   "mimetype": "text/x-python",
   "name": "python",
   "nbconvert_exporter": "python",
   "pygments_lexer": "ipython3",
   "version": "3.7.9-final"
  },
  "orig_nbformat": 2,
  "kernelspec": {
   "name": "python3",
   "display_name": "Python 3",
   "language": "python"
  }
 },
 "nbformat": 4,
 "nbformat_minor": 2,
 "cells": [
  {
   "source": [
    "## Categorize New Member"
   ],
   "cell_type": "markdown",
   "metadata": {}
  },
  {
   "cell_type": "code",
   "execution_count": 3,
   "metadata": {},
   "outputs": [],
   "source": [
    "def open_or_senior(data):\n",
    "    return [ \"Senior\" if (x[0] >= 55 and x[1] > 7)  else  \"Open\"  for x in data]\n"
   ]
  },
  {
   "cell_type": "code",
   "execution_count": 4,
   "metadata": {},
   "outputs": [
    {
     "output_type": "execute_result",
     "data": {
      "text/plain": [
       "['Open', 'Open', 'Senior', 'Open', 'Open', 'Senior']"
      ]
     },
     "metadata": {},
     "execution_count": 4
    }
   ],
   "source": [
    "open_or_senior([[18, 20],[45, 2],[61, 12],[37, 6],[21, 21],[78, 9]])"
   ]
  },
  {
   "source": [
    "## Friend or Foe?"
   ],
   "cell_type": "markdown",
   "metadata": {}
  },
  {
   "cell_type": "code",
   "execution_count": 5,
   "metadata": {},
   "outputs": [],
   "source": [
    "def friend(x):\n",
    "    return [i for i in x if len(i) == 4]"
   ]
  },
  {
   "cell_type": "code",
   "execution_count": 6,
   "metadata": {},
   "outputs": [
    {
     "output_type": "execute_result",
     "data": {
      "text/plain": [
       "['Ryan', 'Mark']"
      ]
     },
     "metadata": {},
     "execution_count": 6
    }
   ],
   "source": [
    "friend([\"Ryan\", \"Kieran\", \"Mark\"])\n"
   ]
  },
  {
   "source": [
    "## Find the next perfect square! "
   ],
   "cell_type": "markdown",
   "metadata": {}
  },
  {
   "cell_type": "code",
   "execution_count": 7,
   "metadata": {},
   "outputs": [],
   "source": [
    "import math\n",
    "def find_next_square(sq):\n",
    "    if sq >= 0:\n",
    "        sqr = math.sqrt(sq)\n",
    "        if sqr.is_integer():#sq // sq ** 0.5 == 0:\n",
    "            return int((sqr +1)) ** 2\n",
    "        else:\n",
    "            return -1 \n",
    "        \n"
   ]
  },
  {
   "cell_type": "code",
   "execution_count": 8,
   "metadata": {},
   "outputs": [
    {
     "output_type": "execute_result",
     "data": {
      "text/plain": [
       "144"
      ]
     },
     "metadata": {},
     "execution_count": 8
    }
   ],
   "source": [
    "find_next_square(121)"
   ]
  },
  {
   "cell_type": "code",
   "execution_count": 9,
   "metadata": {},
   "outputs": [
    {
     "output_type": "execute_result",
     "data": {
      "text/plain": [
       "-1"
      ]
     },
     "metadata": {},
     "execution_count": 9
    }
   ],
   "source": [
    "find_next_square(114)"
   ]
  },
  {
   "source": [
    "## Find The Parity Outlier\n"
   ],
   "cell_type": "markdown",
   "metadata": {}
  },
  {
   "cell_type": "code",
   "execution_count": 10,
   "metadata": {},
   "outputs": [],
   "source": [
    "def find_outlier(integers):\n",
    "    evenList = []\n",
    "    oddList = []\n",
    "    for x in integers:\n",
    "        if x % 2 == 0:\n",
    "            evenList.append(x)\n",
    "        else:\n",
    "            oddList.append(x)\n",
    "    if len(oddList) > len (evenList):\n",
    "        return evenList[0]\n",
    "    else:\n",
    "        return oddList[0]"
   ]
  },
  {
   "cell_type": "code",
   "execution_count": 11,
   "metadata": {},
   "outputs": [
    {
     "output_type": "execute_result",
     "data": {
      "text/plain": [
       "11"
      ]
     },
     "metadata": {},
     "execution_count": 11
    }
   ],
   "source": [
    "find_outlier([2, 4, 0, 100, 4, 11, 2602, 36])\n"
   ]
  },
  {
   "cell_type": "code",
   "execution_count": 12,
   "metadata": {},
   "outputs": [
    {
     "output_type": "execute_result",
     "data": {
      "text/plain": [
       "160"
      ]
     },
     "metadata": {},
     "execution_count": 12
    }
   ],
   "source": [
    "find_outlier([160, 3, 1719, 19, 11, 13, -21])\n"
   ]
  },
  {
   "source": [
    "## Sum of the first nth term of Series\n"
   ],
   "cell_type": "markdown",
   "metadata": {}
  },
  {
   "cell_type": "code",
   "execution_count": 13,
   "metadata": {},
   "outputs": [],
   "source": [
    "def series_sum(n):\n",
    "    result = 0 \n",
    "    number = 1 \n",
    "    for i in range(n):\n",
    "        if i == 0:\n",
    "            result = 1\n",
    "        else:\n",
    "            number += 3\n",
    "            result = result + (1 / number)\n",
    "    return f\"{result:.2f}\"\n"
   ]
  },
  {
   "cell_type": "code",
   "execution_count": 14,
   "metadata": {},
   "outputs": [
    {
     "output_type": "execute_result",
     "data": {
      "text/plain": [
       "'1.57'"
      ]
     },
     "metadata": {},
     "execution_count": 14
    }
   ],
   "source": [
    "series_sum(5)"
   ]
  },
  {
   "source": [
    "## My second Solution"
   ],
   "cell_type": "markdown",
   "metadata": {}
  },
  {
   "cell_type": "code",
   "execution_count": 15,
   "metadata": {},
   "outputs": [],
   "source": [
    "def series_sum_solution1(n):\n",
    "    #return '{:.2f}'.format(sum(1.0/(3 * i + 1) for i in range(n)))\n",
    "    return f\"{sum(1.0/(3 * i +1) for i in range(n)):.2f}\""
   ]
  },
  {
   "cell_type": "code",
   "execution_count": 16,
   "metadata": {},
   "outputs": [
    {
     "output_type": "execute_result",
     "data": {
      "text/plain": [
       "'1.57'"
      ]
     },
     "metadata": {},
     "execution_count": 16
    }
   ],
   "source": [
    "series_sum_solution1(5)"
   ]
  },
  {
   "source": [
    "## My lambda solution "
   ],
   "cell_type": "markdown",
   "metadata": {}
  },
  {
   "cell_type": "code",
   "execution_count": 17,
   "metadata": {},
   "outputs": [],
   "source": [
    "series_sum_solution2 = lambda n: f\"{sum(1.0/(3 * i +1) for i in range(n)):.2f}\""
   ]
  },
  {
   "cell_type": "code",
   "execution_count": 18,
   "metadata": {},
   "outputs": [
    {
     "output_type": "execute_result",
     "data": {
      "text/plain": [
       "'1.57'"
      ]
     },
     "metadata": {},
     "execution_count": 18
    }
   ],
   "source": [
    "series_sum_solution2(5)"
   ]
  }
 ]
}